{
 "cells": [
  {
   "cell_type": "code",
   "execution_count": 1,
   "metadata": {},
   "outputs": [],
   "source": [
    "import pandas as pd\n",
    "from sklearn.model_selection import train_test_split"
   ]
  },
  {
   "cell_type": "code",
   "execution_count": 2,
   "metadata": {},
   "outputs": [],
   "source": [
    "# Import dataset\n",
    "dataset_url = \"https://archive.ics.uci.edu/ml/machine-learning-databases/wine-quality/winequality-white.csv\"\n",
    "column_names = ['fixed-acidity ', 'volatile-acidity', 'citric-acid ', 'residual-sugar ', 'chlorides ', 'free-sulfur-dioxide', 'total-sulfur-dioxide', 'density', 'pH', 'sulphates', 'alcohol', 'quality']\n",
    "dataset = pd.read_csv(dataset_url, names=column_names,  sep=';')"
   ]
  },
  {
   "cell_type": "code",
   "execution_count": 3,
   "metadata": {},
   "outputs": [
    {
     "name": "stdout",
     "output_type": "stream",
     "text": [
      "(4899, 12)\n"
     ]
    }
   ],
   "source": [
    "# Dimensions of dataset\n",
    "print(dataset.shape)"
   ]
  },
  {
   "cell_type": "code",
   "execution_count": 4,
   "metadata": {},
   "outputs": [
    {
     "name": "stdout",
     "output_type": "stream",
     "text": [
      "     fixed-acidity  volatile-acidity citric-acid  residual-sugar  chlorides   \\\n",
      "870             7.3             0.24         0.29             1.2      0.037   \n",
      "4094            6.6             0.41         0.27            10.7       0.11   \n",
      "4154            6.1              0.3         0.47             1.4      0.049   \n",
      "2834            7.2             0.44         0.28             3.4      0.048   \n",
      "2343            7.7              0.4         0.27             4.5      0.034   \n",
      "1906            7.5             0.29         0.67             8.1      0.037   \n",
      "875             7.7             0.15         0.29             1.3      0.029   \n",
      "1786            8.5             0.21         0.26            9.25      0.034   \n",
      "1907              6             0.28         0.35             1.9      0.037   \n",
      "1745            6.6             0.22         0.58             1.1      0.133   \n",
      "\n",
      "     free-sulfur-dioxide total-sulfur-dioxide  density    pH sulphates  \\\n",
      "870                   37                   97   0.9926  3.19       0.7   \n",
      "4094                  20                  103  0.99672  3.08      0.41   \n",
      "4154                  50                  187   0.9927  3.19      0.45   \n",
      "2834                  22                  112  0.99188  3.21      0.37   \n",
      "2343                  27                   95  0.99175  3.21      0.59   \n",
      "1906                  53                  166   0.9966   2.9      0.41   \n",
      "875                   10                   64   0.9932  3.35      0.39   \n",
      "1786                  73                  142   0.9945  3.05      0.37   \n",
      "1907                  16                  120   0.9933  3.16      0.69   \n",
      "1745                  52                  136   0.9932   3.1       0.3   \n",
      "\n",
      "     alcohol quality  \n",
      "870     10.1       6  \n",
      "4094       9       6  \n",
      "4154     9.5       5  \n",
      "2834    11.3       7  \n",
      "2343    12.3       8  \n",
      "1906     8.9       6  \n",
      "875     10.1       5  \n",
      "1786    11.4       6  \n",
      "1907    10.6       5  \n",
      "1745     9.1       5  \n"
     ]
    }
   ],
   "source": [
    "# 10 random rows of the dataset\n",
    "print(dataset.sample(10))"
   ]
  },
  {
   "cell_type": "code",
   "execution_count": 5,
   "metadata": {},
   "outputs": [
    {
     "name": "stdout",
     "output_type": "stream",
     "text": [
      "       fixed-acidity  volatile-acidity citric-acid  residual-sugar   \\\n",
      "count            4899             4899         4899            4899   \n",
      "unique             69              126           88             311   \n",
      "top               6.8             0.28          0.3             1.2   \n",
      "freq              308              263          307             187   \n",
      "\n",
      "       chlorides  free-sulfur-dioxide total-sulfur-dioxide density    pH  \\\n",
      "count        4899                4899                 4899    4899  4899   \n",
      "unique        161                 133                  252     891   104   \n",
      "top         0.044                  29                  111   0.992  3.14   \n",
      "freq          201                 160                   69      64   172   \n",
      "\n",
      "       sulphates alcohol quality  \n",
      "count       4899    4899    4899  \n",
      "unique        80     105       8  \n",
      "top          0.5     9.4       6  \n",
      "freq         249     229    2198  \n"
     ]
    }
   ],
   "source": [
    "# Description of dataset\n",
    "print(dataset.describe())"
   ]
  },
  {
   "cell_type": "code",
   "execution_count": 6,
   "metadata": {},
   "outputs": [],
   "source": [
    "X = dataset.iloc[:,0:11] \n",
    "y = dataset['quality']\n",
    "X_train, X_test, y_train, y_test = train_test_split(X, y, test_size=0.33, random_state=42)"
   ]
  },
  {
   "cell_type": "code",
   "execution_count": 7,
   "metadata": {},
   "outputs": [],
   "source": [
    "#TODO\n",
    "# 1. Train the model on training data(X_train, y_train)\n",
    "# 2. Predict target values using test data(X_test)\n",
    "# 3. Find accuracy of the model comparing with actual test data targets(y_test)"
   ]
  },
  {
   "cell_type": "code",
   "execution_count": null,
   "metadata": {},
   "outputs": [],
   "source": []
  }
 ],
 "metadata": {
  "kernelspec": {
   "display_name": "Python 3",
   "language": "python",
   "name": "python3"
  },
  "language_info": {
   "codemirror_mode": {
    "name": "ipython",
    "version": 3
   },
   "file_extension": ".py",
   "mimetype": "text/x-python",
   "name": "python",
   "nbconvert_exporter": "python",
   "pygments_lexer": "ipython3",
   "version": "3.6.5"
  }
 },
 "nbformat": 4,
 "nbformat_minor": 2
}
