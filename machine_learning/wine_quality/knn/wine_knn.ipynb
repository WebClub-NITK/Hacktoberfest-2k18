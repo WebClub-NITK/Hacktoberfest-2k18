{
 "cells": [
  {
   "cell_type": "code",
   "execution_count": 47,
   "metadata": {},
   "outputs": [],
   "source": [
    "import pandas as pd\n",
    "from sklearn.model_selection import train_test_split"
   ]
  },
  {
   "cell_type": "code",
   "execution_count": 48,
   "metadata": {},
   "outputs": [],
   "source": [
    "# Import dataset\n",
    "dataset_url = \"https://archive.ics.uci.edu/ml/machine-learning-databases/wine-quality/winequality-white.csv\"\n",
    "column_names = ['fixed-acidity', 'volatile-acidity', 'citric-acid', 'residual-sugar', 'chlorides', 'free-sulfur-dioxide', 'total-sulfur-dioxide', 'density', 'pH', 'sulphates', 'alcohol', 'quality']\n",
    "dataset = pd.read_csv(dataset_url, names=column_names,  sep=';')"
   ]
  },
  {
   "cell_type": "code",
   "execution_count": 49,
   "metadata": {},
   "outputs": [
    {
     "data": {
      "text/plain": [
       "fixed-acidity           object\n",
       "volatile-acidity        object\n",
       "citric-acid             object\n",
       "residual-sugar          object\n",
       "chlorides               object\n",
       "free-sulfur-dioxide     object\n",
       "total-sulfur-dioxide    object\n",
       "density                 object\n",
       "pH                      object\n",
       "sulphates               object\n",
       "alcohol                 object\n",
       "quality                 object\n",
       "dtype: object"
      ]
     },
     "execution_count": 49,
     "metadata": {},
     "output_type": "execute_result"
    }
   ],
   "source": [
    "dataset.dtypes"
   ]
  },
  {
   "cell_type": "code",
   "execution_count": 50,
   "metadata": {},
   "outputs": [],
   "source": [
    "dataset = dataset.apply(lambda x: x.str.strip() if x.dtype == \"object\" else x)"
   ]
  },
  {
   "cell_type": "code",
   "execution_count": 51,
   "metadata": {},
   "outputs": [],
   "source": [
    "dataset = dataset_trimmed.iloc[1:]"
   ]
  },
  {
   "cell_type": "code",
   "execution_count": 52,
   "metadata": {},
   "outputs": [
    {
     "name": "stdout",
     "output_type": "stream",
     "text": [
      "(4897, 12)\n"
     ]
    }
   ],
   "source": [
    "# Dimensions of dataset\n",
    "print(dataset.shape)"
   ]
  },
  {
   "cell_type": "code",
   "execution_count": 53,
   "metadata": {},
   "outputs": [
    {
     "name": "stdout",
     "output_type": "stream",
     "text": [
      "      fixed-acidity volatile-acidity citric-acid residual-sugar chlorides  \\\n",
      "86              7.1             0.44        0.62           11.8     0.044   \n",
      "3573            7.6             0.38        0.28            4.2     0.029   \n",
      "3355            5.9              0.2        0.28           12.8     0.038   \n",
      "3732            7.0             0.34        0.26           10.3     0.041   \n",
      "849             8.7             0.23        0.32           13.4     0.044   \n",
      "2518            7.3             0.51        0.29           11.3     0.034   \n",
      "4518            6.8             0.17        0.17            5.1     0.049   \n",
      "4671            6.6            0.285        0.49           11.4     0.035   \n",
      "2058            6.7             0.31        0.31            4.9     0.031   \n",
      "3713            6.3              0.2        0.18           10.6     0.045   \n",
      "\n",
      "     free-sulfur-dioxide total-sulfur-dioxide  density    pH sulphates  \\\n",
      "86                    52                  152   0.9975  3.12      0.46   \n",
      "3573                   7                  112   0.9906     3      0.41   \n",
      "3355                  29                  132  0.99426  3.31      0.57   \n",
      "3732                  51                  166  0.99382  3.08      0.35   \n",
      "849                   35                  169  0.99975  3.12      0.47   \n",
      "2518                  61                  224  0.99683  3.14      0.56   \n",
      "4518                  26                   82    0.993     3      0.38   \n",
      "4671                  57                  137  0.99732  3.08      0.54   \n",
      "2058                  20                  151   0.9926  3.36      0.82   \n",
      "3713                  57                  159  0.99666  3.09      0.54   \n",
      "\n",
      "     alcohol quality  \n",
      "86       8.7       6  \n",
      "3573    12.6       6  \n",
      "3355    11.8       7  \n",
      "3732    11.6       6  \n",
      "849      8.8       7  \n",
      "2518     9.5       6  \n",
      "4518     9.8       6  \n",
      "4671     8.9       6  \n",
      "2058      12       7  \n",
      "3713     9.2       5  \n"
     ]
    }
   ],
   "source": [
    "# 10 random rows of the dataset\n",
    "print(dataset.sample(10))"
   ]
  },
  {
   "cell_type": "code",
   "execution_count": 54,
   "metadata": {},
   "outputs": [
    {
     "name": "stdout",
     "output_type": "stream",
     "text": [
      "       fixed-acidity\n",
      "count    4897.000000\n",
      "mean        6.854758\n",
      "std         0.843952\n",
      "min         3.800000\n",
      "25%         6.300000\n",
      "50%         6.800000\n",
      "75%         7.300000\n",
      "max        14.200000\n"
     ]
    }
   ],
   "source": [
    "# Description of dataset\n",
    "print(dataset.describe())"
   ]
  },
  {
   "cell_type": "code",
   "execution_count": 55,
   "metadata": {},
   "outputs": [
    {
     "name": "stderr",
     "output_type": "stream",
     "text": [
      "/Users/zara.saldanha/anaconda3/lib/python3.6/site-packages/ipykernel/__main__.py:1: SettingWithCopyWarning: \n",
      "A value is trying to be set on a copy of a slice from a DataFrame.\n",
      "Try using .loc[row_indexer,col_indexer] = value instead\n",
      "\n",
      "See the caveats in the documentation: http://pandas.pydata.org/pandas-docs/stable/indexing.html#indexing-view-versus-copy\n",
      "  if __name__ == '__main__':\n"
     ]
    }
   ],
   "source": [
    "dataset['alcohol'] = dataset['alcohol'].astype('float64') "
   ]
  },
  {
   "cell_type": "code",
   "execution_count": 56,
   "metadata": {},
   "outputs": [],
   "source": [
    "X = dataset.iloc[:,0:11] \n",
    "y = dataset['quality']\n",
    "X_train, X_test, y_train, y_test = train_test_split(X, y, test_size=0.33, random_state=42)"
   ]
  },
  {
   "cell_type": "code",
   "execution_count": 57,
   "metadata": {},
   "outputs": [],
   "source": [
    "#TODO\n",
    "# 1. Train the model on training data(X_train, y_train)\n",
    "# 2. Predict target values using test data(X_test)\n",
    "# 3. Find accuracy of the model comparing with actual test data targets(y_test)"
   ]
  },
  {
   "cell_type": "code",
   "execution_count": 83,
   "metadata": {},
   "outputs": [
    {
     "name": "stdout",
     "output_type": "stream",
     "text": [
      "Accuracy is  54.7309833024 % for K-Value: 1\n",
      "Accuracy is  47.3098330241 % for K-Value: 2\n",
      "Accuracy is  45.3308596166 % for K-Value: 3\n",
      "Accuracy is  45.6400742115 % for K-Value: 4\n",
      "Accuracy is  45.3308596166 % for K-Value: 5\n",
      "Accuracy is  46.1966604824 % for K-Value: 6\n",
      "Accuracy is  45.3308596166 % for K-Value: 7\n",
      "Accuracy is  46.6295609153 % for K-Value: 8\n",
      "Accuracy is  44.9598021027 % for K-Value: 9\n",
      "Accuracy is  46.5677179963 % for K-Value: 10\n",
      "Accuracy is  45.7019171305 % for K-Value: 11\n",
      "Accuracy is  46.2585034014 % for K-Value: 12\n",
      "Accuracy is  45.8874458874 % for K-Value: 13\n",
      "Accuracy is  47.0624613482 % for K-Value: 14\n",
      "Accuracy is  46.6295609153 % for K-Value: 15\n",
      "Accuracy is  46.5058750773 % for K-Value: 16\n",
      "Accuracy is  45.3927025356 % for K-Value: 17\n",
      "Accuracy is  46.6295609153 % for K-Value: 18\n",
      "Accuracy is  45.6400742115 % for K-Value: 19\n",
      "Accuracy is  46.6295609153 % for K-Value: 20\n",
      "Accuracy is  45.2690166976 % for K-Value: 21\n",
      "Accuracy is  46.3203463203 % for K-Value: 22\n",
      "Accuracy is  46.0111317254 % for K-Value: 23\n",
      "Accuracy is  46.9387755102 % for K-Value: 24\n",
      "Accuracy is  47.0624613482 % for K-Value: 25\n"
     ]
    }
   ],
   "source": [
    "from sklearn.neighbors import KNeighborsClassifier\n",
    "\n",
    "for K in range(25):\n",
    "    K_value = K+1\n",
    "    knn = KNeighborsClassifier(n_neighbors = K_value, weights='uniform', algorithm='auto')\n",
    "    knn.fit(X_train, y_train) \n",
    "    y_pred = knn.predict(X_test)\n",
    "    print(\"Accuracy is \", accuracy_score(y_test,y_pred)*100,\"% for K-Value:\",K_value)"
   ]
  },
  {
   "cell_type": "code",
   "execution_count": 130,
   "metadata": {},
   "outputs": [
    {
     "name": "stdout",
     "output_type": "stream",
     "text": [
      "['7' '7' '6' ..., '7' '6' '7']\n"
     ]
    },
    {
     "data": {
      "text/plain": [
       "0.57390228818800249"
      ]
     },
     "execution_count": 130,
     "metadata": {},
     "output_type": "execute_result"
    }
   ],
   "source": [
    "from sklearn.neighbors import KNeighborsClassifier\n",
    "from sklearn.metrics import accuracy_score\n",
    "knn = KNeighborsClassifier(n_neighbors=8,metric='minkowski', algorithm ='auto',\n",
    "                           metric_params=None, n_jobs=1,weights='distance')\n",
    "\n",
    "# 1. Train the model on training data(X_train, y_train)\n",
    "knn.fit(X_train, y_train)\n",
    "# 2. Predict target values using test data(X_test)\n",
    "predicted= knn.predict(X_test)\n",
    "print(predicted)\n",
    "# 3. Find accuracy of the model comparing with actual test data targets(y_test)\n",
    "accuracy_score(y_test, predicted)"
   ]
  },
  {
   "cell_type": "code",
   "execution_count": null,
   "metadata": {},
   "outputs": [],
   "source": []
  }
 ],
 "metadata": {
  "kernelspec": {
   "display_name": "Python [default]",
   "language": "python",
   "name": "python3"
  },
  "language_info": {
   "codemirror_mode": {
    "name": "ipython",
    "version": 3
   },
   "file_extension": ".py",
   "mimetype": "text/x-python",
   "name": "python",
   "nbconvert_exporter": "python",
   "pygments_lexer": "ipython3",
   "version": "3.6.3"
  }
 },
 "nbformat": 4,
 "nbformat_minor": 2
}
